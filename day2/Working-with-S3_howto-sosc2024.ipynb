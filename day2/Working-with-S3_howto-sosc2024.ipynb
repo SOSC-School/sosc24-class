{
 "cells": [
  {
   "attachments": {},
   "cell_type": "markdown",
   "id": "a8d3b76c-39f0-4ded-abc0-14fd3a0e3d89",
   "metadata": {},
   "source": [
    "# Day 2 - Working with S3\n",
    "\n",
    "In this notebook we will use some S3 API to interact with [Minio](https://minio.io) a full-fledged service, based on *object storage* combining two protocols:\n",
    " * `s3://`, providing a multi-user service with per-user authentication for uploading and downloading files;\n",
    " * `http://`, providing a public service with per-operation authentication for uploading and downloading files.\n",
    "\n",
    "The `s3` protocol is an **open standard** for *object storage* that was first released by Amazon Web Services (AWS) in 2006.\n",
    "\n",
    "It provides a simple web interface that can be used to store and retrive any amount of data, at any time, from anywhere in the web.\n",
    "\n",
    "The `s3` protocol is a popular choice for storing and managing large amounts of unstructured data such as images, videos and log files. \n",
    "It offers a range of storage classes designed for different use cases, requiring a frequent access or relying on cold storage for archiving data at the lowest cost. \n",
    "\n",
    "Minio, and in general object storage, is organized in ***buckets***. \n",
    "A bucket is a logical container for stored objects. It is more a flat structure that stores objects and their metadata than a file inside a folder.\n",
    "Buckets are used to organize and manage objects in *object storage* systems.\n",
    "\n",
    "Buckets can be created as needed and associated to policies determining what actions users can perform on a bucket and on all the objects in the bucket.\n",
    "Example of policies include replication to other storage services (for disaster recovery) or lifecycle policies. \n",
    "\n",
    "In this notebook we will focus on the basics of S3, including bucket policies and metadata. \n"
   ]
  },
  {
   "cell_type": "markdown",
   "id": "01d62df9-174c-4ffd-bd12-3d9bfe6dfc7d",
   "metadata": {},
   "source": [
    "## Accessing Minio console\n",
    "\n",
    "Go to `https://sosc.131.154.98.182.myip.cloud.infn.it/`, start you Minio application and login with the user and password provided"
   ]
  },
  {
   "cell_type": "markdown",
   "id": "00f03015-3b04-4050-8dcc-9ab257495c0d",
   "metadata": {},
   "source": [
    "## Accessing *Minio* via `s3` in Python with the boto3 library\n",
    "\n",
    "The `boto3`  enables more complicated authorization patterns and enables developing applications which are independent of the object storage provider. In other words, if you develop your application with `boto3` you can transparently migrate from a self-hosted Minio server, to an AWS object storage solution. Enable the S3 client by running the cell.\n",
    "Use `endpoint_url=\"http://localhost:9000` as endpoint to contact minio API.\n"
   ]
  },
  {
   "cell_type": "code",
   "execution_count": 3,
   "id": "8055e6f0-8bcf-473a-937c-64fa3b26531c",
   "metadata": {},
   "outputs": [],
   "source": [
    "import boto3\n",
    "import json\n",
    "\n",
    "miniouser=\"put_here_user\"\n",
    "miniopassword=\"put_here_password\"\n",
    "\n",
    "s3client = boto3.client('s3',\n",
    "    aws_access_key_id=miniouser,\n",
    "    aws_secret_access_key=miniopassword,\n",
    "    endpoint_url=\"http://localhost:9000\",\n",
    "    region_name='default',)"
   ]
  },
  {
   "cell_type": "markdown",
   "id": "290b6dd9-f9d5-4608-a8e3-3575ae103776",
   "metadata": {},
   "source": [
    "Then apply the following to perform some actions\n",
    "\n",
    "1. List your buckets"
   ]
  },
  {
   "cell_type": "code",
   "execution_count": null,
   "id": "ad194bfa-6f6b-424f-aee7-365400d7d608",
   "metadata": {},
   "outputs": [],
   "source": [
    "resp = s3client.list_buckets()\n",
    "print(resp)"
   ]
  },
  {
   "cell_type": "markdown",
   "id": "a68ab983-21e4-47c9-9476-bb9d7603e229",
   "metadata": {},
   "source": [
    "2. Create your own bucket (if you are allowed!)"
   ]
  },
  {
   "cell_type": "code",
   "execution_count": null,
   "id": "1485a6fb-7ba1-4a3d-9120-7e4810eb6c60",
   "metadata": {},
   "outputs": [],
   "source": [
    "bucket_name = 'bucket1'\n",
    "s3bucket = s3client.create_bucket(Bucket=bucket_name)\n",
    "resp = s3client.list_buckets()\n",
    "print(resp)"
   ]
  },
  {
   "cell_type": "markdown",
   "id": "903269e2-8454-4929-9deb-6f9641127061",
   "metadata": {},
   "source": [
    "3. Print only the Bucket name(s)"
   ]
  },
  {
   "cell_type": "code",
   "execution_count": null,
   "id": "58369ec9-327e-4b0f-b48f-19304344d5f5",
   "metadata": {},
   "outputs": [],
   "source": [
    "resp = s3client.list_buckets()\n",
    "for bucket in resp['Buckets']:\n",
    "        print(bucket['Name'])"
   ]
  },
  {
   "cell_type": "markdown",
   "id": "72bf5bee-6d6e-4c20-a0b4-0300c2bfe28b",
   "metadata": {},
   "source": [
    "4. Retrieve the policy for the specified bucket (check the MINIO console)"
   ]
  },
  {
   "cell_type": "code",
   "execution_count": null,
   "id": "2d9985f0-8fc5-49e5-b02d-2471640f147f",
   "metadata": {},
   "outputs": [],
   "source": [
    "bucket_name = 'bucket1'\n",
    "resp = s3client.get_bucket_policy(Bucket=bucket_name,)\n",
    "print(resp)\n",
    "print(resp['Policy'])"
   ]
  },
  {
   "cell_type": "markdown",
   "id": "4f38735d-e5ae-4166-a266-674662ba4bea",
   "metadata": {},
   "source": [
    "5. Create your own bucket policy"
   ]
  },
  {
   "cell_type": "code",
   "execution_count": null,
   "id": "e5273833-331c-4141-8051-93d7d0af2e21",
   "metadata": {},
   "outputs": [],
   "source": [
    "bucket_name = 'bucket1'\n",
    "bucket_policy = {\n",
    "    'Version': '2012-10-17',\n",
    "    'Statement': [{\n",
    "        'Sid': 'AddPerm',\n",
    "        'Effect': 'Allow',\n",
    "        'Principal': '*',\n",
    "        'Action': ['s3:ListBucket'],\n",
    "        'Resource': f'arn:aws:s3:::{bucket_name}'\n",
    "    }]\n",
    "}\n",
    "\n",
    "# Convert the policy from JSON dict to string\n",
    "bucket_policy = json.dumps(bucket_policy)\n",
    "\n",
    "# Set the new policy\n",
    "s3client.put_bucket_policy(Bucket=bucket_name, Policy=bucket_policy)\n",
    "resp = s3client.get_bucket_policy(Bucket=bucket_name,)\n",
    "print(resp)\n"
   ]
  },
  {
   "cell_type": "markdown",
   "id": "a8b24cba-a3d7-4de4-8124-a4273ba39b86",
   "metadata": {},
   "source": [
    "6. Upload an object (upload or create a couple of txt file such as test1.txt and test2.txt)"
   ]
  },
  {
   "cell_type": "code",
   "execution_count": null,
   "id": "d65963f2-c370-4f0e-9f6c-5726971c5068",
   "metadata": {},
   "outputs": [],
   "source": [
    "bucket_name = 'bucket1'\n",
    "upload = s3client.upload_file('test.txt', bucket_name, 'test/test.txt')\n",
    "resp = s3client.list_objects(Bucket=bucket_name)\n",
    "print(resp)"
   ]
  },
  {
   "cell_type": "markdown",
   "id": "caf7b23a-71cc-44ad-81a7-17c337a41156",
   "metadata": {},
   "source": [
    "7. List Object in a bucket"
   ]
  },
  {
   "cell_type": "code",
   "execution_count": null,
   "id": "780c33c0-f3b6-43fd-babe-0d65292dfd2a",
   "metadata": {},
   "outputs": [],
   "source": [
    "bucket_name = 'bucket1'\n",
    "resp = s3client.list_objects(Bucket=bucket_name)\n",
    "for object in resp['Contents']:\n",
    "        print(object['Key'])"
   ]
  },
  {
   "cell_type": "markdown",
   "id": "11c8118b-3049-454c-8392-3ec76673234b",
   "metadata": {},
   "source": [
    "8. List metadata of an Object"
   ]
  },
  {
   "cell_type": "code",
   "execution_count": null,
   "id": "63c421e7-4703-4eb1-b49a-d8bf1ce4fca0",
   "metadata": {},
   "outputs": [],
   "source": [
    "bucket_name = 'bucket1'\n",
    "resp = s3client.list_objects(Bucket=bucket_name)\n",
    "##print(resp)\n",
    "for object in resp['Contents']:\n",
    "    print(object['Key'])\n",
    "    metadata = s3client.head_object(Bucket=bucket_name, Key=object['Key'])\n",
    "    print(metadata)"
   ]
  },
  {
   "cell_type": "markdown",
   "id": "410dee02-2fe5-4395-8147-058bbd734c2c",
   "metadata": {},
   "source": [
    "9. Add personalized metadata"
   ]
  },
  {
   "cell_type": "code",
   "execution_count": null,
   "id": "997318e9-62b0-44f8-9083-c6fc29b47b4f",
   "metadata": {},
   "outputs": [],
   "source": [
    "bucket_name = 'bucket1'\n",
    "resp = s3client.list_objects(Bucket=bucket_name)\n",
    "for object in resp['Contents']:\n",
    "    print(object['Key'])\n",
    "    metadata = s3client.head_object(Bucket=bucket_name, Key=object['Key'])\n",
    "    print(metadata)\n",
    "    new_meta = metadata['Metadata']\n",
    "    new_meta['Costa'] = 'costa1'\n",
    "    s3client.copy_object(Bucket=bucket_name, Key=object['Key'], CopySource=bucket_name + '/' + object['Key'], Metadata=new_meta, MetadataDirective='REPLACE')\n",
    "    metadata = s3client.head_object(Bucket=bucket_name, Key=object['Key'])\n",
    "    print(metadata)"
   ]
  },
  {
   "cell_type": "markdown",
   "id": "602ca1dd-7ac7-49a6-a9f1-90b25bbc2135",
   "metadata": {},
   "source": [
    "10. Delete an Object"
   ]
  },
  {
   "cell_type": "code",
   "execution_count": null,
   "id": "0e83cfdf-ec78-45cf-97ba-778fbe75b21c",
   "metadata": {},
   "outputs": [],
   "source": [
    "bucket_name = 'bucket1'\n",
    "resp = s3client.list_objects(Bucket=bucket_name)\n",
    "for object in resp['Contents']:\n",
    "    print(object['Key'])\n",
    "    s3client.delete_object(Bucket=bucket_name, Key=object['Key'])\n",
    "resp = s3client.list_objects(Bucket=bucket_name)\n",
    "print(resp)"
   ]
  },
  {
   "cell_type": "markdown",
   "id": "089d95f9-0f14-491f-ac94-9c19a1d9e22a",
   "metadata": {},
   "source": [
    "11. Delete a bucket"
   ]
  },
  {
   "cell_type": "code",
   "execution_count": null,
   "id": "7467a118-ebfb-4bcf-be1e-27311f1a38e3",
   "metadata": {},
   "outputs": [],
   "source": [
    "bucket_name = 'bucket1'\n",
    "s3bucket = s3client.delete_bucket(Bucket=bucket_name)\n",
    "resp = s3client.list_buckets()\n",
    "print(resp)"
   ]
  }
 ],
 "metadata": {
  "kernelspec": {
   "display_name": "Python 3 (ipykernel)",
   "language": "python",
   "name": "python3"
  },
  "language_info": {
   "codemirror_mode": {
    "name": "ipython",
    "version": 3
   },
   "file_extension": ".py",
   "mimetype": "text/x-python",
   "name": "python",
   "nbconvert_exporter": "python",
   "pygments_lexer": "ipython3",
   "version": "3.11.10"
  }
 },
 "nbformat": 4,
 "nbformat_minor": 5
}
