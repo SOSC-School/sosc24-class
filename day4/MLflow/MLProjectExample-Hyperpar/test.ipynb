{
 "cells": [
  {
   "cell_type": "code",
   "execution_count": 1,
   "id": "37a63153-07cc-4be7-9371-75f5f4af86ac",
   "metadata": {
    "editable": true,
    "slideshow": {
     "slide_type": ""
    },
    "tags": []
   },
   "outputs": [],
   "source": [
    "import logging\n",
    "import sys\n",
    "import warnings\n",
    "from urllib.parse import urlparse\n",
    "\n",
    "import numpy as np\n",
    "import pandas as pd\n",
    "from sklearn.linear_model import ElasticNet\n",
    "from sklearn.metrics import mean_absolute_error, mean_squared_error, r2_score\n",
    "from sklearn.model_selection import train_test_split\n",
    "\n",
    "import mlflow\n",
    "import mlflow.sklearn\n",
    "from mlflow.models import infer_signature\n",
    "import os\n",
    "\n",
    "logging.basicConfig(level=logging.WARN)\n",
    "logger = logging.getLogger(__name__)\n",
    "\n",
    "warnings.filterwarnings(\"ignore\")"
   ]
  },
  {
   "cell_type": "code",
   "execution_count": 2,
   "id": "daa88a9e-8756-4f43-b2ca-d8ddc18fa885",
   "metadata": {
    "editable": true,
    "slideshow": {
     "slide_type": ""
    },
    "tags": [
     "parameters"
    ]
   },
   "outputs": [],
   "source": [
    "# this cell is tagged \"parameters\"\n",
    "model_path = \"dummy\" "
   ]
  },
  {
   "cell_type": "code",
   "execution_count": 4,
   "id": "aabf84f9-3207-4084-8b56-b25252b0d5f1",
   "metadata": {
    "editable": true,
    "slideshow": {
     "slide_type": ""
    },
    "tags": []
   },
   "outputs": [
    {
     "name": "stdout",
     "output_type": "stream",
     "text": [
      "Elasticnet model (alpha=0.700000, l1_ratio=0.700000):\n",
      "  RMSE: 0.8114199603306314\n",
      "  MAE: 0.658020749964295\n",
      "  R2: 0.02093777006524611\n"
     ]
    },
    {
     "name": "stderr",
     "output_type": "stream",
     "text": [
      "Registered model 'ElasticnetWineModel' already exists. Creating a new version of this model...\n",
      "2023/10/16 15:12:26 INFO mlflow.tracking._model_registry.client: Waiting up to 300 seconds for model version to finish creation. Model name: ElasticnetWineModel, version 7\n",
      "Created version '7' of model 'ElasticnetWineModel'.\n"
     ]
    }
   ],
   "source": [
    "with mlflow.start_run(tags={\"mlflow.runName\": \"Test\"}) as mlrun:\n",
    "    local_model_path = mlflow.artifacts.download_artifacts(\n",
    "        artifact_uri=model_path, dst_path=\"./models\"\n",
    "    )\n",
    "    loaded_model = mlflow.pyfunc.load_model(local_model_path)\n",
    "    data = pd.DataFrame({'fixed acidity': [100.2], \n",
    "                    'volatile acidity': [1.], \n",
    "                    'citric acid': [1.],\n",
    "                    'residual sugar': [1000.2],\n",
    "                    'chlorides': [1.],\n",
    "                    'free sulfur dioxide': [1.],\n",
    "                    'total sulfur dioxide': [1.],\n",
    "                    'density': [1.111],\n",
    "                    'pH': [1.],\n",
    "                    'sulphates': [1.],\n",
    "                    'alcohol': [1.]})\n",
    "    print(loaded_model.predict(data))"
   ]
  }
 ],
 "metadata": {
  "kernelspec": {
   "display_name": "Python 3 (ipykernel)",
   "language": "python",
   "name": "python3"
  },
  "language_info": {
   "codemirror_mode": {
    "name": "ipython",
    "version": 3
   },
   "file_extension": ".py",
   "mimetype": "text/x-python",
   "name": "python",
   "nbconvert_exporter": "python",
   "pygments_lexer": "ipython3",
   "version": "3.10.11"
  }
 },
 "nbformat": 4,
 "nbformat_minor": 5
}
