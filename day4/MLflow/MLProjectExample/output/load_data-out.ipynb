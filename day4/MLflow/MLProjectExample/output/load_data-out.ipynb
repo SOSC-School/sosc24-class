{
 "cells": [
  {
   "cell_type": "code",
   "execution_count": 1,
   "id": "37a63153-07cc-4be7-9371-75f5f4af86ac",
   "metadata": {
    "editable": true,
    "execution": {
     "iopub.execute_input": "2024-12-01T14:29:01.467886Z",
     "iopub.status.busy": "2024-12-01T14:29:01.467051Z",
     "iopub.status.idle": "2024-12-01T14:29:02.375350Z",
     "shell.execute_reply": "2024-12-01T14:29:02.374768Z"
    },
    "papermill": {
     "duration": 0.911743,
     "end_time": "2024-12-01T14:29:02.376511",
     "exception": false,
     "start_time": "2024-12-01T14:29:01.464768",
     "status": "completed"
    },
    "slideshow": {
     "slide_type": ""
    },
    "tags": []
   },
   "outputs": [],
   "source": [
    "from urllib.request import urlretrieve\n",
    "import mlflow\n",
    "import os"
   ]
  },
  {
   "cell_type": "code",
   "execution_count": 2,
   "id": "daa88a9e-8756-4f43-b2ca-d8ddc18fa885",
   "metadata": {
    "editable": true,
    "execution": {
     "iopub.execute_input": "2024-12-01T14:29:02.479472Z",
     "iopub.status.busy": "2024-12-01T14:29:02.479124Z",
     "iopub.status.idle": "2024-12-01T14:29:02.482159Z",
     "shell.execute_reply": "2024-12-01T14:29:02.481639Z"
    },
    "papermill": {
     "duration": 0.105024,
     "end_time": "2024-12-01T14:29:02.482954",
     "exception": false,
     "start_time": "2024-12-01T14:29:02.377930",
     "status": "completed"
    },
    "slideshow": {
     "slide_type": ""
    },
    "tags": [
     "parameters"
    ]
   },
   "outputs": [],
   "source": [
    "data_url = \"https://raw.githubusercontent.com/mlflow/mlflow/master/tests/datasets/winequality-red.csv\""
   ]
  },
  {
   "cell_type": "code",
   "execution_count": 3,
   "id": "d7650800",
   "metadata": {
    "execution": {
     "iopub.execute_input": "2024-12-01T14:29:02.486796Z",
     "iopub.status.busy": "2024-12-01T14:29:02.486625Z",
     "iopub.status.idle": "2024-12-01T14:29:02.489015Z",
     "shell.execute_reply": "2024-12-01T14:29:02.488590Z"
    },
    "papermill": {
     "duration": 0.005377,
     "end_time": "2024-12-01T14:29:02.489701",
     "exception": false,
     "start_time": "2024-12-01T14:29:02.484324",
     "status": "completed"
    },
    "tags": [
     "injected-parameters"
    ]
   },
   "outputs": [],
   "source": [
    "# Parameters\n",
    "data_url = \"https://raw.githubusercontent.com/mlflow/mlflow/master/tests/datasets/winequality-red.csv\"\n"
   ]
  },
  {
   "cell_type": "code",
   "execution_count": 4,
   "id": "68422001-113f-4c0b-b4dc-e9047ac55122",
   "metadata": {
    "editable": true,
    "execution": {
     "iopub.execute_input": "2024-12-01T14:29:02.493492Z",
     "iopub.status.busy": "2024-12-01T14:29:02.493179Z",
     "iopub.status.idle": "2024-12-01T14:29:02.716609Z",
     "shell.execute_reply": "2024-12-01T14:29:02.716035Z"
    },
    "papermill": {
     "duration": 0.226544,
     "end_time": "2024-12-01T14:29:02.717285",
     "exception": false,
     "start_time": "2024-12-01T14:29:02.490741",
     "status": "completed"
    },
    "slideshow": {
     "slide_type": ""
    },
    "tags": []
   },
   "outputs": [
    {
     "data": {
      "text/plain": [
       "('dataset.csv', <http.client.HTTPMessage at 0x7ff0f3c6c190>)"
      ]
     },
     "execution_count": 4,
     "metadata": {},
     "output_type": "execute_result"
    }
   ],
   "source": [
    "csv_path = \"dataset.csv\"\n",
    "urlretrieve(data_url, csv_path)"
   ]
  },
  {
   "cell_type": "code",
   "execution_count": 5,
   "id": "80f22c27-2130-48d7-b4f6-2a90584a7abb",
   "metadata": {
    "editable": true,
    "execution": {
     "iopub.execute_input": "2024-12-01T14:29:02.721493Z",
     "iopub.status.busy": "2024-12-01T14:29:02.721215Z",
     "iopub.status.idle": "2024-12-01T14:29:03.179078Z",
     "shell.execute_reply": "2024-12-01T14:29:03.178683Z"
    },
    "papermill": {
     "duration": 0.461162,
     "end_time": "2024-12-01T14:29:03.179872",
     "exception": false,
     "start_time": "2024-12-01T14:29:02.718710",
     "status": "completed"
    },
    "slideshow": {
     "slide_type": ""
    },
    "tags": []
   },
   "outputs": [
    {
     "name": "stderr",
     "output_type": "stream",
     "text": [
      "2024/12/01 14:29:03 INFO mlflow.tracking._tracking_service.client: 🏃 View run Download at: http://localhost:5000/#/experiments/262509484663012313/runs/7700f26756b24893a7e118b811f97b2f.\n"
     ]
    },
    {
     "name": "stderr",
     "output_type": "stream",
     "text": [
      "2024/12/01 14:29:03 INFO mlflow.tracking._tracking_service.client: 🧪 View experiment at: http://localhost:5000/#/experiments/262509484663012313.\n"
     ]
    }
   ],
   "source": [
    "with mlflow.start_run(tags={\"mlflow.runName\": \"Download\"}) as mlrun:\n",
    "    mlflow.log_artifact(csv_path)"
   ]
  }
 ],
 "metadata": {
  "kernelspec": {
   "display_name": "Python 3 (ipykernel)",
   "language": "python",
   "name": "python3"
  },
  "language_info": {
   "codemirror_mode": {
    "name": "ipython",
    "version": 3
   },
   "file_extension": ".py",
   "mimetype": "text/x-python",
   "name": "python",
   "nbconvert_exporter": "python",
   "pygments_lexer": "ipython3",
   "version": "3.11.10"
  },
  "papermill": {
   "default_parameters": {},
   "duration": 2.885748,
   "end_time": "2024-12-01T14:29:03.597349",
   "environment_variables": {},
   "exception": null,
   "input_path": "load_data.ipynb",
   "output_path": "output/load_data-out.ipynb",
   "parameters": {
    "data_url": "https://raw.githubusercontent.com/mlflow/mlflow/master/tests/datasets/winequality-red.csv"
   },
   "start_time": "2024-12-01T14:29:00.711601",
   "version": "2.6.0"
  }
 },
 "nbformat": 4,
 "nbformat_minor": 5
}