{
 "cells": [
  {
   "cell_type": "code",
   "execution_count": 1,
   "id": "37a63153-07cc-4be7-9371-75f5f4af86ac",
   "metadata": {
    "editable": true,
    "execution": {
     "iopub.execute_input": "2024-12-01T14:29:05.381493Z",
     "iopub.status.busy": "2024-12-01T14:29:05.381231Z",
     "iopub.status.idle": "2024-12-01T14:29:06.535368Z",
     "shell.execute_reply": "2024-12-01T14:29:06.534493Z"
    },
    "papermill": {
     "duration": 1.157578,
     "end_time": "2024-12-01T14:29:06.536544",
     "exception": false,
     "start_time": "2024-12-01T14:29:05.378966",
     "status": "completed"
    },
    "slideshow": {
     "slide_type": ""
    },
    "tags": []
   },
   "outputs": [],
   "source": [
    "import numpy as np\n",
    "import pandas as pd\n",
    "from sklearn.model_selection import train_test_split\n",
    "import mlflow\n",
    "import os"
   ]
  },
  {
   "cell_type": "code",
   "execution_count": 2,
   "id": "daa88a9e-8756-4f43-b2ca-d8ddc18fa885",
   "metadata": {
    "editable": true,
    "execution": {
     "iopub.execute_input": "2024-12-01T14:29:06.540202Z",
     "iopub.status.busy": "2024-12-01T14:29:06.539924Z",
     "iopub.status.idle": "2024-12-01T14:29:06.542931Z",
     "shell.execute_reply": "2024-12-01T14:29:06.542483Z"
    },
    "papermill": {
     "duration": 0.005717,
     "end_time": "2024-12-01T14:29:06.543627",
     "exception": false,
     "start_time": "2024-12-01T14:29:06.537910",
     "status": "completed"
    },
    "slideshow": {
     "slide_type": ""
    },
    "tags": [
     "parameters"
    ]
   },
   "outputs": [],
   "source": [
    "# this cell is tagged \"parameters\"\n",
    "random_seed = 40\n",
    "test_size = 0.25\n",
    "csv_path = \"dataset.csv\""
   ]
  },
  {
   "cell_type": "code",
   "execution_count": 3,
   "id": "3bbac209",
   "metadata": {
    "execution": {
     "iopub.execute_input": "2024-12-01T14:29:06.546685Z",
     "iopub.status.busy": "2024-12-01T14:29:06.546264Z",
     "iopub.status.idle": "2024-12-01T14:29:06.548975Z",
     "shell.execute_reply": "2024-12-01T14:29:06.548476Z"
    },
    "papermill": {
     "duration": 0.005219,
     "end_time": "2024-12-01T14:29:06.549722",
     "exception": false,
     "start_time": "2024-12-01T14:29:06.544503",
     "status": "completed"
    },
    "tags": [
     "injected-parameters"
    ]
   },
   "outputs": [],
   "source": [
    "# Parameters\n",
    "random_seed = 30\n",
    "test_size = 0.3\n",
    "csv_path = \"mlflow-artifacts:/262509484663012313/7700f26756b24893a7e118b811f97b2f/artifacts/dataset.csv\"\n"
   ]
  },
  {
   "cell_type": "code",
   "execution_count": 4,
   "id": "68422001-113f-4c0b-b4dc-e9047ac55122",
   "metadata": {
    "editable": true,
    "execution": {
     "iopub.execute_input": "2024-12-01T14:29:06.553269Z",
     "iopub.status.busy": "2024-12-01T14:29:06.552858Z",
     "iopub.status.idle": "2024-12-01T14:29:07.382908Z",
     "shell.execute_reply": "2024-12-01T14:29:07.382497Z"
    },
    "papermill": {
     "duration": 0.833083,
     "end_time": "2024-12-01T14:29:07.383706",
     "exception": false,
     "start_time": "2024-12-01T14:29:06.550623",
     "status": "completed"
    },
    "slideshow": {
     "slide_type": ""
    },
    "tags": []
   },
   "outputs": [
    {
     "data": {
      "application/vnd.jupyter.widget-view+json": {
       "model_id": "f2d9dd001c834682a8374b02950871f0",
       "version_major": 2,
       "version_minor": 0
      },
      "text/plain": [
       "Downloading artifacts:   0%|          | 0/1 [00:00<?, ?it/s]"
      ]
     },
     "metadata": {},
     "output_type": "display_data"
    },
    {
     "name": "stderr",
     "output_type": "stream",
     "text": [
      "2024/12/01 14:29:07 INFO mlflow.tracking._tracking_service.client: 🏃 View run Prepare at: http://localhost:5000/#/experiments/262509484663012313/runs/538c4302533c4f2da4d8b67fae983194.\n"
     ]
    },
    {
     "name": "stderr",
     "output_type": "stream",
     "text": [
      "2024/12/01 14:29:07 INFO mlflow.tracking._tracking_service.client: 🧪 View experiment at: http://localhost:5000/#/experiments/262509484663012313.\n"
     ]
    }
   ],
   "source": [
    "with mlflow.start_run(tags={\"mlflow.runName\": \"Prepare\"}) as mlrun:\n",
    "        local_path = mlflow.artifacts.download_artifacts(artifact_uri=csv_path, dst_path=\"./downloads\")\n",
    "        data = pd.read_csv(local_path, sep=\";\")\n",
    "        \n",
    "        np.random.seed(random_seed)\n",
    "        \n",
    "        train, test = train_test_split(data, test_size=test_size)\n",
    "        \n",
    "        train_path = \"train.csv\"\n",
    "        test_path = \"test.csv\"\n",
    "        \n",
    "        train.to_csv(train_path, index=False)\n",
    "        test.to_csv(test_path, index=False)\n",
    "\n",
    "\n",
    "        mlflow.log_artifact(train_path)\n",
    "        mlflow.log_artifact(test_path)"
   ]
  }
 ],
 "metadata": {
  "kernelspec": {
   "display_name": "Python 3 (ipykernel)",
   "language": "python",
   "name": "python3"
  },
  "language_info": {
   "codemirror_mode": {
    "name": "ipython",
    "version": 3
   },
   "file_extension": ".py",
   "mimetype": "text/x-python",
   "name": "python",
   "nbconvert_exporter": "python",
   "pygments_lexer": "ipython3",
   "version": "3.11.10"
  },
  "papermill": {
   "default_parameters": {},
   "duration": 3.408929,
   "end_time": "2024-12-01T14:29:07.800981",
   "environment_variables": {},
   "exception": null,
   "input_path": "prepare_train_test.ipynb",
   "output_path": "output/prepare_train_test-out.ipynb",
   "parameters": {
    "csv_path": "mlflow-artifacts:/262509484663012313/7700f26756b24893a7e118b811f97b2f/artifacts/dataset.csv",
    "random_seed": 30,
    "test_size": 0.3
   },
   "start_time": "2024-12-01T14:29:04.392052",
   "version": "2.6.0"
  },
  "widgets": {
   "application/vnd.jupyter.widget-state+json": {
    "state": {
     "4a2cd7b2854e4ac189ca3dffd9d1d162": {
      "model_module": "@jupyter-widgets/base",
      "model_module_version": "2.0.0",
      "model_name": "LayoutModel",
      "state": {
       "_model_module": "@jupyter-widgets/base",
       "_model_module_version": "2.0.0",
       "_model_name": "LayoutModel",
       "_view_count": null,
       "_view_module": "@jupyter-widgets/base",
       "_view_module_version": "2.0.0",
       "_view_name": "LayoutView",
       "align_content": null,
       "align_items": null,
       "align_self": null,
       "border_bottom": null,
       "border_left": null,
       "border_right": null,
       "border_top": null,
       "bottom": null,
       "display": null,
       "flex": null,
       "flex_flow": null,
       "grid_area": null,
       "grid_auto_columns": null,
       "grid_auto_flow": null,
       "grid_auto_rows": null,
       "grid_column": null,
       "grid_gap": null,
       "grid_row": null,
       "grid_template_areas": null,
       "grid_template_columns": null,
       "grid_template_rows": null,
       "height": null,
       "justify_content": null,
       "justify_items": null,
       "left": null,
       "margin": null,
       "max_height": null,
       "max_width": null,
       "min_height": null,
       "min_width": null,
       "object_fit": null,
       "object_position": null,
       "order": null,
       "overflow": null,
       "padding": null,
       "right": null,
       "top": null,
       "visibility": null,
       "width": null
      }
     },
     "5386088cbad84ce4ab9746e2ff7ec5ac": {
      "model_module": "@jupyter-widgets/controls",
      "model_module_version": "2.0.0",
      "model_name": "HTMLStyleModel",
      "state": {
       "_model_module": "@jupyter-widgets/controls",
       "_model_module_version": "2.0.0",
       "_model_name": "HTMLStyleModel",
       "_view_count": null,
       "_view_module": "@jupyter-widgets/base",
       "_view_module_version": "2.0.0",
       "_view_name": "StyleView",
       "background": null,
       "description_width": "",
       "font_size": null,
       "text_color": null
      }
     },
     "5f8ccb1a483f499db349aacbbac03846": {
      "model_module": "@jupyter-widgets/controls",
      "model_module_version": "2.0.0",
      "model_name": "ProgressStyleModel",
      "state": {
       "_model_module": "@jupyter-widgets/controls",
       "_model_module_version": "2.0.0",
       "_model_name": "ProgressStyleModel",
       "_view_count": null,
       "_view_module": "@jupyter-widgets/base",
       "_view_module_version": "2.0.0",
       "_view_name": "StyleView",
       "bar_color": null,
       "description_width": ""
      }
     },
     "73001217216f439b90c5b6674057e271": {
      "model_module": "@jupyter-widgets/controls",
      "model_module_version": "2.0.0",
      "model_name": "HTMLModel",
      "state": {
       "_dom_classes": [],
       "_model_module": "@jupyter-widgets/controls",
       "_model_module_version": "2.0.0",
       "_model_name": "HTMLModel",
       "_view_count": null,
       "_view_module": "@jupyter-widgets/controls",
       "_view_module_version": "2.0.0",
       "_view_name": "HTMLView",
       "description": "",
       "description_allow_html": false,
       "layout": "IPY_MODEL_a68d6fa7e26945239324e455d7c3ea59",
       "placeholder": "​",
       "style": "IPY_MODEL_d6277a8d631241d3b4e14307cdb5920f",
       "tabbable": null,
       "tooltip": null,
       "value": " 1/1 [00:00&lt;00:00, 149.76it/s]"
      }
     },
     "74c8366f6cc740c79f90c86ffa5b1e65": {
      "model_module": "@jupyter-widgets/base",
      "model_module_version": "2.0.0",
      "model_name": "LayoutModel",
      "state": {
       "_model_module": "@jupyter-widgets/base",
       "_model_module_version": "2.0.0",
       "_model_name": "LayoutModel",
       "_view_count": null,
       "_view_module": "@jupyter-widgets/base",
       "_view_module_version": "2.0.0",
       "_view_name": "LayoutView",
       "align_content": null,
       "align_items": null,
       "align_self": null,
       "border_bottom": null,
       "border_left": null,
       "border_right": null,
       "border_top": null,
       "bottom": null,
       "display": null,
       "flex": null,
       "flex_flow": null,
       "grid_area": null,
       "grid_auto_columns": null,
       "grid_auto_flow": null,
       "grid_auto_rows": null,
       "grid_column": null,
       "grid_gap": null,
       "grid_row": null,
       "grid_template_areas": null,
       "grid_template_columns": null,
       "grid_template_rows": null,
       "height": null,
       "justify_content": null,
       "justify_items": null,
       "left": null,
       "margin": null,
       "max_height": null,
       "max_width": null,
       "min_height": null,
       "min_width": null,
       "object_fit": null,
       "object_position": null,
       "order": null,
       "overflow": null,
       "padding": null,
       "right": null,
       "top": null,
       "visibility": null,
       "width": null
      }
     },
     "778463d5711a4166a76648a416b9880c": {
      "model_module": "@jupyter-widgets/controls",
      "model_module_version": "2.0.0",
      "model_name": "HTMLModel",
      "state": {
       "_dom_classes": [],
       "_model_module": "@jupyter-widgets/controls",
       "_model_module_version": "2.0.0",
       "_model_name": "HTMLModel",
       "_view_count": null,
       "_view_module": "@jupyter-widgets/controls",
       "_view_module_version": "2.0.0",
       "_view_name": "HTMLView",
       "description": "",
       "description_allow_html": false,
       "layout": "IPY_MODEL_4a2cd7b2854e4ac189ca3dffd9d1d162",
       "placeholder": "​",
       "style": "IPY_MODEL_5386088cbad84ce4ab9746e2ff7ec5ac",
       "tabbable": null,
       "tooltip": null,
       "value": "Downloading artifacts: 100%"
      }
     },
     "a5149ef6a2e043488d2e3112164576c6": {
      "model_module": "@jupyter-widgets/controls",
      "model_module_version": "2.0.0",
      "model_name": "FloatProgressModel",
      "state": {
       "_dom_classes": [],
       "_model_module": "@jupyter-widgets/controls",
       "_model_module_version": "2.0.0",
       "_model_name": "FloatProgressModel",
       "_view_count": null,
       "_view_module": "@jupyter-widgets/controls",
       "_view_module_version": "2.0.0",
       "_view_name": "ProgressView",
       "bar_style": "success",
       "description": "",
       "description_allow_html": false,
       "layout": "IPY_MODEL_74c8366f6cc740c79f90c86ffa5b1e65",
       "max": 1.0,
       "min": 0.0,
       "orientation": "horizontal",
       "style": "IPY_MODEL_5f8ccb1a483f499db349aacbbac03846",
       "tabbable": null,
       "tooltip": null,
       "value": 1.0
      }
     },
     "a68d6fa7e26945239324e455d7c3ea59": {
      "model_module": "@jupyter-widgets/base",
      "model_module_version": "2.0.0",
      "model_name": "LayoutModel",
      "state": {
       "_model_module": "@jupyter-widgets/base",
       "_model_module_version": "2.0.0",
       "_model_name": "LayoutModel",
       "_view_count": null,
       "_view_module": "@jupyter-widgets/base",
       "_view_module_version": "2.0.0",
       "_view_name": "LayoutView",
       "align_content": null,
       "align_items": null,
       "align_self": null,
       "border_bottom": null,
       "border_left": null,
       "border_right": null,
       "border_top": null,
       "bottom": null,
       "display": null,
       "flex": null,
       "flex_flow": null,
       "grid_area": null,
       "grid_auto_columns": null,
       "grid_auto_flow": null,
       "grid_auto_rows": null,
       "grid_column": null,
       "grid_gap": null,
       "grid_row": null,
       "grid_template_areas": null,
       "grid_template_columns": null,
       "grid_template_rows": null,
       "height": null,
       "justify_content": null,
       "justify_items": null,
       "left": null,
       "margin": null,
       "max_height": null,
       "max_width": null,
       "min_height": null,
       "min_width": null,
       "object_fit": null,
       "object_position": null,
       "order": null,
       "overflow": null,
       "padding": null,
       "right": null,
       "top": null,
       "visibility": null,
       "width": null
      }
     },
     "a7310697c8c942b683aab5a039551e66": {
      "model_module": "@jupyter-widgets/base",
      "model_module_version": "2.0.0",
      "model_name": "LayoutModel",
      "state": {
       "_model_module": "@jupyter-widgets/base",
       "_model_module_version": "2.0.0",
       "_model_name": "LayoutModel",
       "_view_count": null,
       "_view_module": "@jupyter-widgets/base",
       "_view_module_version": "2.0.0",
       "_view_name": "LayoutView",
       "align_content": null,
       "align_items": null,
       "align_self": null,
       "border_bottom": null,
       "border_left": null,
       "border_right": null,
       "border_top": null,
       "bottom": null,
       "display": null,
       "flex": null,
       "flex_flow": null,
       "grid_area": null,
       "grid_auto_columns": null,
       "grid_auto_flow": null,
       "grid_auto_rows": null,
       "grid_column": null,
       "grid_gap": null,
       "grid_row": null,
       "grid_template_areas": null,
       "grid_template_columns": null,
       "grid_template_rows": null,
       "height": null,
       "justify_content": null,
       "justify_items": null,
       "left": null,
       "margin": null,
       "max_height": null,
       "max_width": null,
       "min_height": null,
       "min_width": null,
       "object_fit": null,
       "object_position": null,
       "order": null,
       "overflow": null,
       "padding": null,
       "right": null,
       "top": null,
       "visibility": null,
       "width": null
      }
     },
     "d6277a8d631241d3b4e14307cdb5920f": {
      "model_module": "@jupyter-widgets/controls",
      "model_module_version": "2.0.0",
      "model_name": "HTMLStyleModel",
      "state": {
       "_model_module": "@jupyter-widgets/controls",
       "_model_module_version": "2.0.0",
       "_model_name": "HTMLStyleModel",
       "_view_count": null,
       "_view_module": "@jupyter-widgets/base",
       "_view_module_version": "2.0.0",
       "_view_name": "StyleView",
       "background": null,
       "description_width": "",
       "font_size": null,
       "text_color": null
      }
     },
     "f2d9dd001c834682a8374b02950871f0": {
      "model_module": "@jupyter-widgets/controls",
      "model_module_version": "2.0.0",
      "model_name": "HBoxModel",
      "state": {
       "_dom_classes": [],
       "_model_module": "@jupyter-widgets/controls",
       "_model_module_version": "2.0.0",
       "_model_name": "HBoxModel",
       "_view_count": null,
       "_view_module": "@jupyter-widgets/controls",
       "_view_module_version": "2.0.0",
       "_view_name": "HBoxView",
       "box_style": "",
       "children": [
        "IPY_MODEL_778463d5711a4166a76648a416b9880c",
        "IPY_MODEL_a5149ef6a2e043488d2e3112164576c6",
        "IPY_MODEL_73001217216f439b90c5b6674057e271"
       ],
       "layout": "IPY_MODEL_a7310697c8c942b683aab5a039551e66",
       "tabbable": null,
       "tooltip": null
      }
     }
    },
    "version_major": 2,
    "version_minor": 0
   }
  }
 },
 "nbformat": 4,
 "nbformat_minor": 5
}